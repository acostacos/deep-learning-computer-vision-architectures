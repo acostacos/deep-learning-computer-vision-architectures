{
 "cells": [
  {
   "cell_type": "code",
   "execution_count": 10,
   "metadata": {},
   "outputs": [],
   "source": [
    "import os\n",
    "import torch\n",
    "import matplotlib.pyplot as plt\n",
    "\n",
    "from datetime import datetime\n",
    "from torch import optim, nn\n",
    "from torch.utils.data import DataLoader\n",
    "from torchvision import datasets\n",
    "from torchvision.transforms import ToTensor, Compose, CenterCrop\n",
    "from tqdm import tqdm\n",
    "\n",
    "from models.lenet import LeNet"
   ]
  },
  {
   "cell_type": "markdown",
   "metadata": {},
   "source": [
    "### Datasets"
   ]
  },
  {
   "cell_type": "code",
   "execution_count": 17,
   "metadata": {},
   "outputs": [],
   "source": [
    "def load_mnist_dataset():\n",
    "    training_data = datasets.MNIST(\n",
    "        root='data',\n",
    "        train=True,\n",
    "        download=True,\n",
    "        transform=ToTensor()\n",
    "    )\n",
    "    test_data = datasets.MNIST(\n",
    "        root='data',\n",
    "        train=False,\n",
    "        download=True,\n",
    "        transform=ToTensor()\n",
    "    )\n",
    "    return training_data, test_data\n",
    "\n",
    "def load_fashionmnist_dataset():\n",
    "    training_data = datasets.FashionMNIST(\n",
    "        root='data',\n",
    "        train=True,\n",
    "        download=True,\n",
    "        transform=ToTensor()\n",
    "    )\n",
    "    test_data = datasets.FashionMNIST(\n",
    "        root='data',\n",
    "        train=False,\n",
    "        download=True,\n",
    "        transform=ToTensor()\n",
    "    )\n",
    "    return training_data, test_data\n",
    "\n",
    "def load_cifar10_dataset(transform = None):\n",
    "    transform = ToTensor() if transform is None else transform\n",
    "    training_data = datasets.CIFAR10(\n",
    "        root='data',\n",
    "        train=True,\n",
    "        download=True,\n",
    "        transform=transform\n",
    "    )\n",
    "    test_data = datasets.CIFAR10(\n",
    "        root='data',\n",
    "        train=False,\n",
    "        download=True,\n",
    "        transform=transform\n",
    "    )\n",
    "    return training_data, test_data"
   ]
  },
  {
   "cell_type": "code",
   "execution_count": 18,
   "metadata": {},
   "outputs": [
    {
     "name": "stdout",
     "output_type": "stream",
     "text": [
      "Dataset  0\n",
      "Input shape:  torch.Size([1, 1, 28, 28])\n",
      "Class count:  10\n",
      "Dataset  1\n",
      "Input shape:  torch.Size([1, 1, 28, 28])\n",
      "Class count:  10\n",
      "Files already downloaded and verified\n",
      "Files already downloaded and verified\n",
      "Dataset  2\n",
      "Input shape:  torch.Size([1, 3, 32, 32])\n",
      "Class count:  10\n"
     ]
    }
   ],
   "source": [
    "dataset_funcs = [load_mnist_dataset, load_fashionmnist_dataset, load_cifar10_dataset]\n",
    "\n",
    "for i, get_data in enumerate(dataset_funcs):\n",
    "    training_data, test_data = get_data()\n",
    "    dataloader = DataLoader(training_data, batch_size=1)\n",
    "    first_image, first_label = next(iter(dataloader))\n",
    "\n",
    "    print('Dataset ', i)\n",
    "    print('Input shape: ', first_image.shape)\n",
    "    print('Class count: ', len(training_data.classes))"
   ]
  },
  {
   "cell_type": "markdown",
   "metadata": {},
   "source": [
    "### Utility Functions"
   ]
  },
  {
   "cell_type": "code",
   "execution_count": 4,
   "metadata": {},
   "outputs": [],
   "source": [
    "def train(\n",
    "    model: nn.Module,\n",
    "    dataloader: DataLoader,\n",
    "    optimizer: optim.Optimizer,\n",
    "    num_epochs: int = 100,\n",
    "    device: str = 'cpu',\n",
    ") -> list[float]:\n",
    "    model.train(True)\n",
    "    loss_per_epoch = []\n",
    "    pbar = tqdm(range(num_epochs))\n",
    "    for _ in pbar:\n",
    "        total_loss = 0\n",
    "        for images, labels in dataloader:\n",
    "            images, labels = images.to(device), labels.to(device)\n",
    "            optimizer.zero_grad()\n",
    "\n",
    "            pred = model(images)\n",
    "\n",
    "            loss = model.loss(pred, labels)\n",
    "\n",
    "            loss.backward()\n",
    "            optimizer.step()\n",
    "\n",
    "            total_loss += loss.item()\n",
    "\n",
    "        loss_per_epoch.append(total_loss)\n",
    "        pbar.set_postfix({ \"Epoch Loss\": total_loss })\n",
    "    return loss_per_epoch\n",
    "\n",
    "def validate(model: nn.Module, dataloader: DataLoader, device: str = 'cpu'):\n",
    "    total_loss = 0\n",
    "    model.eval()\n",
    "    with torch.no_grad():\n",
    "        for images, labels in dataloader:\n",
    "            images, labels = images.to(device), labels.to(device)\n",
    "            pred = model(images)\n",
    "            loss = model.loss(pred, labels)\n",
    "            total_loss += loss.item()\n",
    "    print('Validation Loss: ', total_loss)\n",
    "\n",
    "def plot_loss(num_epochs: int, loss: list[float]):\n",
    "    plt.xlabel('Iterations')\n",
    "    plt.ylabel('Loss')\n",
    "    plt.plot(range(num_epochs), loss)\n",
    "    plt.show()\n",
    "\n",
    "def save_model(model: nn.Module, model_prefix: str = 'model_'):\n",
    "    model_dir = 'saved_models'\n",
    "    os.makedirs(model_dir, exist_ok=True)\n",
    "    timestamp = datetime.now().strftime('%Y%m%d_%H%M%S')\n",
    "    model_path = f'{model_dir}/{model_prefix}{timestamp}'\n",
    "    torch.save(model.state_dict(), model_path)"
   ]
  },
  {
   "cell_type": "markdown",
   "metadata": {},
   "source": [
    "### LeNet"
   ]
  },
  {
   "cell_type": "code",
   "execution_count": 5,
   "metadata": {},
   "outputs": [],
   "source": [
    "device = 'cuda' if torch.cuda.is_available() else 'cpu'\n",
    "\n",
    "# Hyper parameters\n",
    "BATCH_SIZE = 100\n",
    "NUM_EPOCHS = 100"
   ]
  },
  {
   "cell_type": "code",
   "execution_count": 6,
   "metadata": {},
   "outputs": [
    {
     "name": "stderr",
     "output_type": "stream",
     "text": [
      "100%|██████████| 100/100 [23:41<00:00, 14.21s/it, Epoch Loss=0.089]\n"
     ]
    },
    {
     "data": {
      "image/png": "[encoded data removed]",
      "text/plain": [
       "<Figure size 640x480 with 1 Axes>"
      ]
     },
     "metadata": {},
     "output_type": "display_data"
    },
    {
     "name": "stdout",
     "output_type": "stream",
     "text": [
      "Validation Loss:  5.871229175420922\n"
     ]
    }
   ],
   "source": [
    "training_data, test_data = load_mnist_dataset()\n",
    "training_loader = DataLoader(training_data, batch_size=BATCH_SIZE, shuffle=True)\n",
    "model = LeNet(device=device)\n",
    "optimizer = optim.Adam(model.parameters())\n",
    "loss = train(model, training_loader, optimizer, num_epochs=NUM_EPOCHS, device=device)\n",
    "plot_loss(NUM_EPOCHS, loss)\n",
    "\n",
    "test_loader = DataLoader(test_data, batch_size=BATCH_SIZE, shuffle=True)\n",
    "validate(model, test_loader, device=device)\n",
    "\n",
    "save_model(model, model_prefix='LeNet_MNIST_')"
   ]
  },
  {
   "cell_type": "code",
   "execution_count": 7,
   "metadata": {},
   "outputs": [
    {
     "name": "stderr",
     "output_type": "stream",
     "text": [
      "100%|██████████| 100/100 [19:29<00:00, 11.69s/it, Epoch Loss=91.7]\n"
     ]
    },
    {
     "data": {
      "image/png": "[encoded data removed]",
      "text/plain": [
       "<Figure size 640x480 with 1 Axes>"
      ]
     },
     "metadata": {},
     "output_type": "display_data"
    },
    {
     "name": "stdout",
     "output_type": "stream",
     "text": [
      "Validation Loss:  30.53490859270096\n"
     ]
    }
   ],
   "source": [
    "training_data, test_data = load_fashionmnist_dataset()\n",
    "training_loader = DataLoader(training_data, batch_size=BATCH_SIZE, shuffle=True)\n",
    "model = LeNet(device=device)\n",
    "optimizer = optim.Adam(model.parameters())\n",
    "loss = train(model, training_loader, optimizer, num_epochs=NUM_EPOCHS, device=device)\n",
    "plot_loss(NUM_EPOCHS, loss)\n",
    "\n",
    "test_loader = DataLoader(test_data, batch_size=BATCH_SIZE, shuffle=True)\n",
    "validate(model, test_loader, device=device)\n",
    "\n",
    "save_model(model, model_prefix='LeNet_FashionMNIST_')"
   ]
  },
  {
   "cell_type": "code",
   "execution_count": null,
   "metadata": {},
   "outputs": [],
   "source": [
    "transform = Compose([\n",
    "    CenterCrop((28, 28)),\n",
    "    ToTensor(),\n",
    "])\n",
    "training_data, test_data = load_cifar10_dataset(transform=transform)\n",
    "training_loader = DataLoader(training_data, batch_size=BATCH_SIZE, shuffle=True)\n",
    "\n",
    "model = LeNet(in_channels=3, device=device)\n",
    "optimizer = optim.Adam(model.parameters())\n",
    "loss = train(model, training_loader, optimizer, num_epochs=NUM_EPOCHS, device=device)\n",
    "plot_loss(NUM_EPOCHS, loss)\n",
    "\n",
    "test_loader = DataLoader(test_data, batch_size=BATCH_SIZE, shuffle=True)\n",
    "validate(model, test_loader, device=device)\n",
    "\n",
    "save_model(model, model_prefix='LeNet_CIFAR10_')"
   ]
  },
  {
   "cell_type": "code",
   "execution_count": null,
   "metadata": {},
   "outputs": [],
   "source": []
  }
 ],
 "metadata": {
  "kernelspec": {
   "display_name": "ml",
   "language": "python",
   "name": "python3"
  },
  "language_info": {
   "codemirror_mode": {
    "name": "ipython",
    "version": 3
   },
   "file_extension": ".py",
   "mimetype": "text/x-python",
   "name": "python",
   "nbconvert_exporter": "python",
   "pygments_lexer": "ipython3",
   "version": "3.12.7"
  }
 },
 "nbformat": 4,
 "nbformat_minor": 2
}
